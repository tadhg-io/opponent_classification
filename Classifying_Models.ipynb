{
 "cells": [
  {
   "cell_type": "code",
   "execution_count": 1,
   "id": "cb1ad4dc-8315-4548-a3de-4fc5e7d38bea",
   "metadata": {},
   "outputs": [],
   "source": [
    "import pandas as pd\n",
    "import xml.etree.ElementTree as ET\n",
    "from collections import defaultdict\n",
    "import matplotlib.pyplot as plt\n",
    "import seaborn as sns\n",
    "import numpy as np\n",
    "import zipfile\n",
    "from sklearn.preprocessing import LabelEncoder\n",
    "from sklearn.model_selection import train_test_split\n",
    "from sklearn.ensemble import RandomForestClassifier\n",
    "from sklearn.metrics import classification_report, accuracy_score"
   ]
  },
  {
   "cell_type": "markdown",
   "id": "3db09b8b-eaf7-446e-b5c4-919e22cba18b",
   "metadata": {},
   "source": [
    "### Data Preprocessing"
   ]
  },
  {
   "cell_type": "code",
   "execution_count": 4,
   "id": "66e1cc74-c78b-407b-8b2a-7ff4a272555d",
   "metadata": {},
   "outputs": [
    {
     "name": "stderr",
     "output_type": "stream",
     "text": [
      "C:\\Users\\tadhg\\AppData\\Local\\Temp\\ipykernel_39052\\3470219130.py:3: ParserWarning: Falling back to the 'python' engine because the 'c' engine does not support skipfooter; you can avoid this warning by specifying engine='python'.\n",
      "  df_games = pd.read_csv('C:/source/MicroRTS/' + tournament_name + '/tournament.csv', skiprows=21, skipfooter=63)\n"
     ]
    }
   ],
   "source": [
    "# load the tournament summary into a dataframe\n",
    "tournament_name = \"tournament_5\"\n",
    "df_games = pd.read_csv('C:/source/MicroRTS/' + tournament_name + '/tournament.csv', skiprows=21, skipfooter=63)"
   ]
  },
  {
   "cell_type": "code",
   "execution_count": 6,
   "id": "cb07fe7b-259e-4548-8429-7c6f9453d284",
   "metadata": {},
   "outputs": [],
   "source": [
    "# read in the model names\n",
    "ai_models = pd.read_csv('C:/source/MicroRTS/' + tournament_name + '/tournament.csv', usecols=[1], skiprows=1, nrows=8)\n",
    "ai_models_list = ai_models.iloc[:,0].tolist()\n",
    "# create a dict so we can use map()\n",
    "model_names_dict = {i: name for i, name in enumerate(ai_models_list)}"
   ]
  },
  {
   "cell_type": "code",
   "execution_count": 8,
   "id": "737da0bd-bfa4-400d-ae22-f4e947794e69",
   "metadata": {},
   "outputs": [],
   "source": [
    "# add the model names to the dataframe\n",
    "df_games['ai1_name'] = df_games['ai1'].map(model_names_dict)\n",
    "df_games['ai2_name'] = df_games['ai2'].map(model_names_dict)\n",
    "\n",
    "# winner columns, so we know which column won\n",
    "df_games['winning_model'] = np.where(df_games['winner'] == 0, df_games['ai1'], np.where(df_games['winner'] == 1, df_games['ai2'], -1))\n",
    "df_games['winning_model_name'] = df_games['winning_model'].map(model_names_dict)\n",
    "# loser columns, so we know which model was beaten\n",
    "df_games['losing_model'] = np.where(df_games['winner'] == 0, df_games['ai2'], np.where(df_games['winner'] == 1, df_games['ai2'], -1))\n",
    "df_games['losing_model_name'] = df_games['losing_model'].map(model_names_dict)"
   ]
  },
  {
   "cell_type": "code",
   "execution_count": 10,
   "id": "48ef8b1a-64a7-4f67-835b-5a51ef0e56b3",
   "metadata": {},
   "outputs": [],
   "source": [
    "# Function to extract and parse XML from a zip file\n",
    "def extract_and_parse_xml(zip_path, file_name):\n",
    "    # use the xipfile library to get the content => https://docs.python.org/3/library/zipfile.html\n",
    "    with zipfile.ZipFile(zip_path, 'r') as zip_ref:\n",
    "        with zip_ref.open(file_name) as xml_file:\n",
    "            # Read the content of the file\n",
    "            xml_content = xml_file.read()\n",
    "            # Parse the XML to a python object => https://docs.python.org/3/library/xml.etree.elementtree.html\n",
    "            root = ET.fromstring(xml_content)\n",
    "    return root"
   ]
  },
  {
   "cell_type": "code",
   "execution_count": 12,
   "id": "f1365ba9-edf6-4dcb-9523-66bac44c07dc",
   "metadata": {},
   "outputs": [
    {
     "data": {
      "text/html": [
       "<div>\n",
       "<style scoped>\n",
       "    .dataframe tbody tr th:only-of-type {\n",
       "        vertical-align: middle;\n",
       "    }\n",
       "\n",
       "    .dataframe tbody tr th {\n",
       "        vertical-align: top;\n",
       "    }\n",
       "\n",
       "    .dataframe thead th {\n",
       "        text-align: right;\n",
       "    }\n",
       "</style>\n",
       "<table border=\"1\" class=\"dataframe\">\n",
       "  <thead>\n",
       "    <tr style=\"text-align: right;\">\n",
       "      <th></th>\n",
       "      <th>time</th>\n",
       "      <th>player_0_resources</th>\n",
       "      <th>player_1_resources</th>\n",
       "      <th>player_0_Base_units</th>\n",
       "      <th>player_1_Base_units</th>\n",
       "      <th>player_0_Worker_units</th>\n",
       "      <th>player_1_Worker_units</th>\n",
       "      <th>opponent</th>\n",
       "      <th>game_id</th>\n",
       "      <th>player_0_action_type_4_count</th>\n",
       "      <th>...</th>\n",
       "      <th>player_1_action_type_0_count</th>\n",
       "      <th>player_1_action_parameter_10_count</th>\n",
       "      <th>player_1_Barracks_units</th>\n",
       "      <th>player_1_Light_units</th>\n",
       "      <th>player_0_Barracks_units</th>\n",
       "      <th>player_0_Light_units</th>\n",
       "      <th>player_1_Heavy_units</th>\n",
       "      <th>player_1_Ranged_units</th>\n",
       "      <th>player_0_Heavy_units</th>\n",
       "      <th>player_0_Ranged_units</th>\n",
       "    </tr>\n",
       "  </thead>\n",
       "  <tbody>\n",
       "    <tr>\n",
       "      <th>0</th>\n",
       "      <td>0</td>\n",
       "      <td>5</td>\n",
       "      <td>5</td>\n",
       "      <td>1.0</td>\n",
       "      <td>1.0</td>\n",
       "      <td>1.0</td>\n",
       "      <td>1.0</td>\n",
       "      <td>WorkerRush(AStarPathFinding)</td>\n",
       "      <td>0-vs-0-0-0.zip</td>\n",
       "      <td>0.0</td>\n",
       "      <td>...</td>\n",
       "      <td>0.0</td>\n",
       "      <td>0.0</td>\n",
       "      <td>0.0</td>\n",
       "      <td>0.0</td>\n",
       "      <td>0.0</td>\n",
       "      <td>0.0</td>\n",
       "      <td>0.0</td>\n",
       "      <td>0.0</td>\n",
       "      <td>0.0</td>\n",
       "      <td>0.0</td>\n",
       "    </tr>\n",
       "    <tr>\n",
       "      <th>1</th>\n",
       "      <td>0</td>\n",
       "      <td>5</td>\n",
       "      <td>5</td>\n",
       "      <td>1.0</td>\n",
       "      <td>1.0</td>\n",
       "      <td>1.0</td>\n",
       "      <td>1.0</td>\n",
       "      <td>WorkerRush(AStarPathFinding)</td>\n",
       "      <td>0-vs-0-0-0.zip</td>\n",
       "      <td>1.0</td>\n",
       "      <td>...</td>\n",
       "      <td>0.0</td>\n",
       "      <td>0.0</td>\n",
       "      <td>0.0</td>\n",
       "      <td>0.0</td>\n",
       "      <td>0.0</td>\n",
       "      <td>0.0</td>\n",
       "      <td>0.0</td>\n",
       "      <td>0.0</td>\n",
       "      <td>0.0</td>\n",
       "      <td>0.0</td>\n",
       "    </tr>\n",
       "    <tr>\n",
       "      <th>2</th>\n",
       "      <td>20</td>\n",
       "      <td>5</td>\n",
       "      <td>5</td>\n",
       "      <td>1.0</td>\n",
       "      <td>1.0</td>\n",
       "      <td>1.0</td>\n",
       "      <td>1.0</td>\n",
       "      <td>WorkerRush(AStarPathFinding)</td>\n",
       "      <td>0-vs-0-0-0.zip</td>\n",
       "      <td>0.0</td>\n",
       "      <td>...</td>\n",
       "      <td>0.0</td>\n",
       "      <td>0.0</td>\n",
       "      <td>0.0</td>\n",
       "      <td>0.0</td>\n",
       "      <td>0.0</td>\n",
       "      <td>0.0</td>\n",
       "      <td>0.0</td>\n",
       "      <td>0.0</td>\n",
       "      <td>0.0</td>\n",
       "      <td>0.0</td>\n",
       "    </tr>\n",
       "    <tr>\n",
       "      <th>3</th>\n",
       "      <td>30</td>\n",
       "      <td>5</td>\n",
       "      <td>5</td>\n",
       "      <td>1.0</td>\n",
       "      <td>1.0</td>\n",
       "      <td>1.0</td>\n",
       "      <td>1.0</td>\n",
       "      <td>WorkerRush(AStarPathFinding)</td>\n",
       "      <td>0-vs-0-0-0.zip</td>\n",
       "      <td>0.0</td>\n",
       "      <td>...</td>\n",
       "      <td>0.0</td>\n",
       "      <td>0.0</td>\n",
       "      <td>0.0</td>\n",
       "      <td>0.0</td>\n",
       "      <td>0.0</td>\n",
       "      <td>0.0</td>\n",
       "      <td>0.0</td>\n",
       "      <td>0.0</td>\n",
       "      <td>0.0</td>\n",
       "      <td>0.0</td>\n",
       "    </tr>\n",
       "    <tr>\n",
       "      <th>4</th>\n",
       "      <td>40</td>\n",
       "      <td>6</td>\n",
       "      <td>6</td>\n",
       "      <td>1.0</td>\n",
       "      <td>1.0</td>\n",
       "      <td>1.0</td>\n",
       "      <td>1.0</td>\n",
       "      <td>WorkerRush(AStarPathFinding)</td>\n",
       "      <td>0-vs-0-0-0.zip</td>\n",
       "      <td>0.0</td>\n",
       "      <td>...</td>\n",
       "      <td>0.0</td>\n",
       "      <td>0.0</td>\n",
       "      <td>0.0</td>\n",
       "      <td>0.0</td>\n",
       "      <td>0.0</td>\n",
       "      <td>0.0</td>\n",
       "      <td>0.0</td>\n",
       "      <td>0.0</td>\n",
       "      <td>0.0</td>\n",
       "      <td>0.0</td>\n",
       "    </tr>\n",
       "  </tbody>\n",
       "</table>\n",
       "<p>5 rows × 41 columns</p>\n",
       "</div>"
      ],
      "text/plain": [
       "   time  player_0_resources  player_1_resources  player_0_Base_units  \\\n",
       "0     0                   5                   5                  1.0   \n",
       "1     0                   5                   5                  1.0   \n",
       "2    20                   5                   5                  1.0   \n",
       "3    30                   5                   5                  1.0   \n",
       "4    40                   6                   6                  1.0   \n",
       "\n",
       "   player_1_Base_units  player_0_Worker_units  player_1_Worker_units  \\\n",
       "0                  1.0                    1.0                    1.0   \n",
       "1                  1.0                    1.0                    1.0   \n",
       "2                  1.0                    1.0                    1.0   \n",
       "3                  1.0                    1.0                    1.0   \n",
       "4                  1.0                    1.0                    1.0   \n",
       "\n",
       "                       opponent         game_id  player_0_action_type_4_count  \\\n",
       "0  WorkerRush(AStarPathFinding)  0-vs-0-0-0.zip                           0.0   \n",
       "1  WorkerRush(AStarPathFinding)  0-vs-0-0-0.zip                           1.0   \n",
       "2  WorkerRush(AStarPathFinding)  0-vs-0-0-0.zip                           0.0   \n",
       "3  WorkerRush(AStarPathFinding)  0-vs-0-0-0.zip                           0.0   \n",
       "4  WorkerRush(AStarPathFinding)  0-vs-0-0-0.zip                           0.0   \n",
       "\n",
       "   ...  player_1_action_type_0_count  player_1_action_parameter_10_count  \\\n",
       "0  ...                           0.0                                 0.0   \n",
       "1  ...                           0.0                                 0.0   \n",
       "2  ...                           0.0                                 0.0   \n",
       "3  ...                           0.0                                 0.0   \n",
       "4  ...                           0.0                                 0.0   \n",
       "\n",
       "   player_1_Barracks_units  player_1_Light_units  player_0_Barracks_units  \\\n",
       "0                      0.0                   0.0                      0.0   \n",
       "1                      0.0                   0.0                      0.0   \n",
       "2                      0.0                   0.0                      0.0   \n",
       "3                      0.0                   0.0                      0.0   \n",
       "4                      0.0                   0.0                      0.0   \n",
       "\n",
       "   player_0_Light_units  player_1_Heavy_units  player_1_Ranged_units  \\\n",
       "0                   0.0                   0.0                    0.0   \n",
       "1                   0.0                   0.0                    0.0   \n",
       "2                   0.0                   0.0                    0.0   \n",
       "3                   0.0                   0.0                    0.0   \n",
       "4                   0.0                   0.0                    0.0   \n",
       "\n",
       "   player_0_Heavy_units  player_0_Ranged_units  \n",
       "0                   0.0                    0.0  \n",
       "1                   0.0                    0.0  \n",
       "2                   0.0                    0.0  \n",
       "3                   0.0                    0.0  \n",
       "4                   0.0                    0.0  \n",
       "\n",
       "[5 rows x 41 columns]"
      ]
     },
     "execution_count": 12,
     "metadata": {},
     "output_type": "execute_result"
    }
   ],
   "source": [
    "# Initialize list to hold trace data\n",
    "trace_data = []\n",
    "# the path where traces are stored\n",
    "traces_path = 'C:/source/MicroRTS/' + tournament_name + '/traces/'\n",
    "\n",
    "# loop through all games in the tournament summary\n",
    "for index, row in df_games.iterrows():\n",
    "\n",
    "    # compose the filename where the traces for this game will be stored\n",
    "    filename = \"%d-vs-%d-%d-%d.zip\" % (row['ai1'], row['ai2'], row['map'], row['iteration']) \n",
    "    # Load the XML file\n",
    "    root = extract_and_parse_xml(traces_path + filename, 'game.xml')\n",
    "    \n",
    "    # Iterate through each TraceEntry to extract timestep data\n",
    "    for entry in root.findall('.//rts.TraceEntry'):\n",
    "        # timestep ID if this TraceEntry in the game\n",
    "        time = int(entry.get('time'))\n",
    "        \n",
    "        # Extract players' data\n",
    "        players = entry.findall('.//rts.Player')\n",
    "        player_data = {f\"player_{player.get('ID')}_resources\": int(player.get('resources')) for player in players}\n",
    "        \n",
    "        # Initialize counters for unit types\n",
    "        unit_counts = defaultdict(int)\n",
    "        \n",
    "        # Extract units - count unit types for each player\n",
    "        units = entry.findall('.//rts.units.Unit')\n",
    "        for unit in units:\n",
    "            unit_type = unit.get('type')\n",
    "            player_id = unit.get('player')\n",
    "            if player_id != '-1':  # Exclude neutral units like resources\n",
    "                unit_counts[f\"player_{player_id}_{unit_type}_units\"] += 1\n",
    "        \n",
    "        # Extract actions' data\n",
    "        action_counts = defaultdict(int)\n",
    "        # get an array of action tags\n",
    "        actions = entry.findall('.//action')\n",
    "        # loop through each action\n",
    "        for action in actions:\n",
    "            # the unit that the action was performed on\n",
    "            unit_id = action.get('unitID')\n",
    "            # the action that was performed\n",
    "            unit_action = action.find('UnitAction')\n",
    "            # if an action was defined\n",
    "            if unit_action is not None:\n",
    "                # action details\n",
    "                action_type = unit_action.get('type')\n",
    "                parameter = unit_action.get('parameter')\n",
    "                for unit in units:\n",
    "                    if unit.get('ID') == unit_id:\n",
    "                        player_id = unit.get('player')\n",
    "                        break\n",
    "                # create columns for player and action type, or player and parameter\n",
    "                action_counts[f\"player_{player_id}_action_type_{action_type}_count\"] += 1\n",
    "                action_counts[f\"player_{player_id}_action_parameter_{parameter}_count\"] += 1\n",
    "        \n",
    "        # Combine data for this timestep\n",
    "        timestep_data = {'time': time}\n",
    "        timestep_data.update(player_data)\n",
    "        timestep_data.update(unit_counts)\n",
    "        timestep_data.update(action_counts)\n",
    "\n",
    "        # add label columns\n",
    "        timestep_data['opponent'] = row['ai2_name']\n",
    "        timestep_data['game_id'] = filename\n",
    "        \n",
    "        # Add to data list of traces\n",
    "        trace_data.append(timestep_data)\n",
    "\n",
    "    # TEST : limit data for testing\n",
    "    if index > 100:\n",
    "        break;\n",
    "\n",
    "# Create DataFrame from the traces\n",
    "df = pd.DataFrame(trace_data)\n",
    "\n",
    "# Fill NaN values with 0 (in case there are no actions of certain types in some timesteps)\n",
    "df = df.fillna(0)\n",
    "\n",
    "# Write to a file\n",
    "df.to_csv('C:/source/MicroRTS/' + tournament_name + '/traces.csv')  \n",
    "# Display a preview of the DataFrame\n",
    "df.head()"
   ]
  },
  {
   "cell_type": "code",
   "execution_count": 14,
   "id": "175e4944-3b14-458a-82c0-4bc0ac5c3d18",
   "metadata": {},
   "outputs": [
    {
     "data": {
      "text/plain": [
       "Index(['time', 'player_0_resources', 'player_1_resources',\n",
       "       'player_0_Base_units', 'player_1_Base_units', 'player_0_Worker_units',\n",
       "       'player_1_Worker_units', 'opponent', 'game_id',\n",
       "       'player_0_action_type_4_count', 'player_0_action_parameter_0_count',\n",
       "       'player_0_action_type_2_count', 'player_0_action_parameter_3_count',\n",
       "       'player_1_action_type_4_count', 'player_1_action_parameter_1_count',\n",
       "       'player_1_action_type_2_count', 'player_0_action_type_1_count',\n",
       "       'player_0_action_parameter_2_count', 'player_1_action_type_1_count',\n",
       "       'player_1_action_parameter_3_count', 'player_0_action_type_3_count',\n",
       "       'player_0_action_parameter_1_count', 'player_1_action_type_3_count',\n",
       "       'player_1_action_parameter_0_count',\n",
       "       'player_1_action_parameter_2_count', 'player_0_action_type_5_count',\n",
       "       'player_0_action_parameter_None_count', 'player_1_action_type_5_count',\n",
       "       'player_1_action_parameter_None_count', 'player_0_action_type_0_count',\n",
       "       'player_0_action_parameter_10_count', 'player_1_action_type_0_count',\n",
       "       'player_1_action_parameter_10_count', 'player_1_Barracks_units',\n",
       "       'player_1_Light_units', 'player_0_Barracks_units',\n",
       "       'player_0_Light_units', 'player_1_Heavy_units', 'player_1_Ranged_units',\n",
       "       'player_0_Heavy_units', 'player_0_Ranged_units'],\n",
       "      dtype='object')"
      ]
     },
     "execution_count": 14,
     "metadata": {},
     "output_type": "execute_result"
    }
   ],
   "source": [
    "df.columns"
   ]
  },
  {
   "cell_type": "markdown",
   "id": "6db8002e-f1a4-4636-bd3a-2dc7087d2071",
   "metadata": {},
   "source": [
    "### Create Training Data of sliding windows"
   ]
  },
  {
   "cell_type": "code",
   "execution_count": 17,
   "id": "72e06dcf-d9e8-4859-9e35-52b3538eb091",
   "metadata": {},
   "outputs": [
    {
     "data": {
      "text/plain": [
       "array([[[5., 5., 1., ..., 0., 0., 0.],\n",
       "        [5., 5., 1., ..., 0., 0., 0.],\n",
       "        [5., 5., 1., ..., 0., 0., 0.],\n",
       "        [5., 5., 1., ..., 0., 0., 0.],\n",
       "        [6., 6., 1., ..., 0., 0., 0.]],\n",
       "\n",
       "       [[5., 5., 1., ..., 0., 0., 0.],\n",
       "        [5., 5., 1., ..., 0., 0., 0.],\n",
       "        [5., 5., 1., ..., 0., 0., 0.],\n",
       "        [6., 6., 1., ..., 0., 0., 0.],\n",
       "        [5., 5., 1., ..., 0., 0., 0.]],\n",
       "\n",
       "       [[5., 5., 1., ..., 0., 0., 0.],\n",
       "        [5., 5., 1., ..., 0., 0., 0.],\n",
       "        [6., 6., 1., ..., 0., 0., 0.],\n",
       "        [5., 5., 1., ..., 0., 0., 0.],\n",
       "        [5., 5., 1., ..., 0., 0., 0.]],\n",
       "\n",
       "       ...,\n",
       "\n",
       "       [[1., 2., 0., ..., 0., 0., 0.],\n",
       "        [1., 2., 0., ..., 0., 0., 0.],\n",
       "        [1., 2., 0., ..., 0., 0., 0.],\n",
       "        [1., 2., 0., ..., 0., 0., 0.],\n",
       "        [1., 2., 0., ..., 0., 0., 0.]],\n",
       "\n",
       "       [[1., 2., 0., ..., 0., 0., 0.],\n",
       "        [1., 2., 0., ..., 0., 0., 0.],\n",
       "        [1., 2., 0., ..., 0., 0., 0.],\n",
       "        [1., 2., 0., ..., 0., 0., 0.],\n",
       "        [1., 2., 0., ..., 0., 0., 0.]],\n",
       "\n",
       "       [[1., 2., 0., ..., 0., 0., 0.],\n",
       "        [1., 2., 0., ..., 0., 0., 0.],\n",
       "        [1., 2., 0., ..., 0., 0., 0.],\n",
       "        [1., 2., 0., ..., 0., 0., 0.],\n",
       "        [1., 2., 0., ..., 0., 0., 0.]]])"
      ]
     },
     "execution_count": 17,
     "metadata": {},
     "output_type": "execute_result"
    }
   ],
   "source": [
    "window_size = 5\n",
    "X, y = [], []\n",
    "i = 0\n",
    "# loop through the timestep data\n",
    "while i < len(df) - window_size:\n",
    "    # make sure the next 5 traces are within the same game (don't want to mix games in a window)\n",
    "    if df.iloc[i]['game_id'] == df.iloc[i + window_size]['game_id']:\n",
    "        # Take take 5 traces at a time\n",
    "        window = df.iloc[i:i + window_size]\n",
    "        X.append(window.drop(columns=['time', 'game_id', 'opponent']).values)\n",
    "        # Use the opponent label at the end of the window\n",
    "        y.append(window['opponent'].iloc[-1])\n",
    "        # increment i to make a sliding window starting with the next\n",
    "        i += 1\n",
    "    else:\n",
    "        # we need to skip to start a new window at the next different value\n",
    "        i = i + window_size - 1\n",
    "\n",
    "X = np.array(X)\n",
    "y = np.array(y)\n",
    "# preview the data\n",
    "X"
   ]
  },
  {
   "cell_type": "code",
   "execution_count": 19,
   "id": "36455646-c55e-49f3-a73a-d571bc910bd7",
   "metadata": {},
   "outputs": [
    {
     "name": "stdout",
     "output_type": "stream",
     "text": [
      "Shape of X: (48635, 5, 38)\n",
      "Shape of y: (48635,)\n"
     ]
    }
   ],
   "source": [
    "\n",
    "# Check the shape of the generated windows\n",
    "print(\"Shape of X:\", X.shape)\n",
    "print(\"Shape of y:\", y.shape)"
   ]
  },
  {
   "cell_type": "code",
   "execution_count": 21,
   "id": "f260b4f7-30ad-4acb-88df-1fdd7ca1e78e",
   "metadata": {},
   "outputs": [
    {
     "name": "stdout",
     "output_type": "stream",
     "text": [
      "Classes: ['HeavyDefense(AStarPathFinding)' 'HeavyRush(AStarPathFinding)'\n",
      " 'LightDefense(AStarPathFinding)' 'LightRush(AStarPathFinding)'\n",
      " 'RangedDefense(AStarPathFinding)' 'RangedRush(AStarPathFinding)'\n",
      " 'WorkerDefense(AStarPathFinding)' 'WorkerRush(AStarPathFinding)']\n"
     ]
    }
   ],
   "source": [
    "# Encode the opponent labels\n",
    "label_encoder = LabelEncoder()\n",
    "y_encoded = label_encoder.fit_transform(y)\n",
    "\n",
    "print(\"Classes:\", label_encoder.classes_)"
   ]
  },
  {
   "cell_type": "code",
   "execution_count": 23,
   "id": "404f82cf-3389-4fb0-8792-eed0b4354f58",
   "metadata": {},
   "outputs": [
    {
     "data": {
      "text/plain": [
       "(48635,)"
      ]
     },
     "execution_count": 23,
     "metadata": {},
     "output_type": "execute_result"
    }
   ],
   "source": [
    "y_encoded.shape"
   ]
  },
  {
   "cell_type": "markdown",
   "id": "78415275-4eb9-434c-abbc-985fd289dfd1",
   "metadata": {},
   "source": [
    "### Create the Train-Test split"
   ]
  },
  {
   "cell_type": "code",
   "execution_count": 26,
   "id": "c781c2ee-1272-4c91-8708-cdf1dcb53775",
   "metadata": {
    "scrolled": true
   },
   "outputs": [],
   "source": [
    "# We need to flatten the X array for Scikit-Learn\n",
    "num_samples, window_size, num_features = X.shape# Flatten each window\n",
    "X_flat = np.array([window.flatten() for window in X])\n",
    "\n",
    "# Split the data into training and testing sets\n",
    "X_train, X_test, y_train, y_test = train_test_split(X_flat, y_encoded, test_size=0.2, random_state=42, stratify=y_encoded)"
   ]
  },
  {
   "cell_type": "markdown",
   "id": "2abe91cd-14cc-4fc4-a1b6-757aab8eba55",
   "metadata": {},
   "source": [
    "### Train the model"
   ]
  },
  {
   "cell_type": "code",
   "execution_count": 29,
   "id": "1495d17b-ab21-40c7-84e5-7b744e79b782",
   "metadata": {},
   "outputs": [
    {
     "data": {
      "text/html": [
       "<style>#sk-container-id-1 {color: black;}#sk-container-id-1 pre{padding: 0;}#sk-container-id-1 div.sk-toggleable {background-color: white;}#sk-container-id-1 label.sk-toggleable__label {cursor: pointer;display: block;width: 100%;margin-bottom: 0;padding: 0.3em;box-sizing: border-box;text-align: center;}#sk-container-id-1 label.sk-toggleable__label-arrow:before {content: \"▸\";float: left;margin-right: 0.25em;color: #696969;}#sk-container-id-1 label.sk-toggleable__label-arrow:hover:before {color: black;}#sk-container-id-1 div.sk-estimator:hover label.sk-toggleable__label-arrow:before {color: black;}#sk-container-id-1 div.sk-toggleable__content {max-height: 0;max-width: 0;overflow: hidden;text-align: left;background-color: #f0f8ff;}#sk-container-id-1 div.sk-toggleable__content pre {margin: 0.2em;color: black;border-radius: 0.25em;background-color: #f0f8ff;}#sk-container-id-1 input.sk-toggleable__control:checked~div.sk-toggleable__content {max-height: 200px;max-width: 100%;overflow: auto;}#sk-container-id-1 input.sk-toggleable__control:checked~label.sk-toggleable__label-arrow:before {content: \"▾\";}#sk-container-id-1 div.sk-estimator input.sk-toggleable__control:checked~label.sk-toggleable__label {background-color: #d4ebff;}#sk-container-id-1 div.sk-label input.sk-toggleable__control:checked~label.sk-toggleable__label {background-color: #d4ebff;}#sk-container-id-1 input.sk-hidden--visually {border: 0;clip: rect(1px 1px 1px 1px);clip: rect(1px, 1px, 1px, 1px);height: 1px;margin: -1px;overflow: hidden;padding: 0;position: absolute;width: 1px;}#sk-container-id-1 div.sk-estimator {font-family: monospace;background-color: #f0f8ff;border: 1px dotted black;border-radius: 0.25em;box-sizing: border-box;margin-bottom: 0.5em;}#sk-container-id-1 div.sk-estimator:hover {background-color: #d4ebff;}#sk-container-id-1 div.sk-parallel-item::after {content: \"\";width: 100%;border-bottom: 1px solid gray;flex-grow: 1;}#sk-container-id-1 div.sk-label:hover label.sk-toggleable__label {background-color: #d4ebff;}#sk-container-id-1 div.sk-serial::before {content: \"\";position: absolute;border-left: 1px solid gray;box-sizing: border-box;top: 0;bottom: 0;left: 50%;z-index: 0;}#sk-container-id-1 div.sk-serial {display: flex;flex-direction: column;align-items: center;background-color: white;padding-right: 0.2em;padding-left: 0.2em;position: relative;}#sk-container-id-1 div.sk-item {position: relative;z-index: 1;}#sk-container-id-1 div.sk-parallel {display: flex;align-items: stretch;justify-content: center;background-color: white;position: relative;}#sk-container-id-1 div.sk-item::before, #sk-container-id-1 div.sk-parallel-item::before {content: \"\";position: absolute;border-left: 1px solid gray;box-sizing: border-box;top: 0;bottom: 0;left: 50%;z-index: -1;}#sk-container-id-1 div.sk-parallel-item {display: flex;flex-direction: column;z-index: 1;position: relative;background-color: white;}#sk-container-id-1 div.sk-parallel-item:first-child::after {align-self: flex-end;width: 50%;}#sk-container-id-1 div.sk-parallel-item:last-child::after {align-self: flex-start;width: 50%;}#sk-container-id-1 div.sk-parallel-item:only-child::after {width: 0;}#sk-container-id-1 div.sk-dashed-wrapped {border: 1px dashed gray;margin: 0 0.4em 0.5em 0.4em;box-sizing: border-box;padding-bottom: 0.4em;background-color: white;}#sk-container-id-1 div.sk-label label {font-family: monospace;font-weight: bold;display: inline-block;line-height: 1.2em;}#sk-container-id-1 div.sk-label-container {text-align: center;}#sk-container-id-1 div.sk-container {/* jupyter's `normalize.less` sets `[hidden] { display: none; }` but bootstrap.min.css set `[hidden] { display: none !important; }` so we also need the `!important` here to be able to override the default hidden behavior on the sphinx rendered scikit-learn.org. See: https://github.com/scikit-learn/scikit-learn/issues/21755 */display: inline-block !important;position: relative;}#sk-container-id-1 div.sk-text-repr-fallback {display: none;}</style><div id=\"sk-container-id-1\" class=\"sk-top-container\"><div class=\"sk-text-repr-fallback\"><pre>RandomForestClassifier(random_state=42)</pre><b>In a Jupyter environment, please rerun this cell to show the HTML representation or trust the notebook. <br />On GitHub, the HTML representation is unable to render, please try loading this page with nbviewer.org.</b></div><div class=\"sk-container\" hidden><div class=\"sk-item\"><div class=\"sk-estimator sk-toggleable\"><input class=\"sk-toggleable__control sk-hidden--visually\" id=\"sk-estimator-id-1\" type=\"checkbox\" checked><label for=\"sk-estimator-id-1\" class=\"sk-toggleable__label sk-toggleable__label-arrow\">RandomForestClassifier</label><div class=\"sk-toggleable__content\"><pre>RandomForestClassifier(random_state=42)</pre></div></div></div></div></div>"
      ],
      "text/plain": [
       "RandomForestClassifier(random_state=42)"
      ]
     },
     "execution_count": 29,
     "metadata": {},
     "output_type": "execute_result"
    }
   ],
   "source": [
    "# Initialize the classifier\n",
    "classifier = RandomForestClassifier(n_estimators=100, random_state=42)\n",
    "\n",
    "# Train the classifier\n",
    "classifier.fit(X_train, y_train)"
   ]
  },
  {
   "cell_type": "markdown",
   "id": "38a03060-12f6-463a-a8b7-06f049f921a8",
   "metadata": {},
   "source": [
    "### Evaluate the model"
   ]
  },
  {
   "cell_type": "code",
   "execution_count": 32,
   "id": "803d6b5a-e54b-4722-857a-0574993be2e5",
   "metadata": {},
   "outputs": [
    {
     "name": "stdout",
     "output_type": "stream",
     "text": [
      "Overall accuracy: 0.7401048627531613\n",
      "Report:\n",
      "                                 precision    recall  f1-score   support\n",
      "\n",
      " HeavyDefense(AStarPathFinding)       0.72      0.68      0.70      1470\n",
      "    HeavyRush(AStarPathFinding)       0.73      0.76      0.74      1700\n",
      " LightDefense(AStarPathFinding)       0.77      0.84      0.80      1241\n",
      "    LightRush(AStarPathFinding)       0.82      0.79      0.80      1141\n",
      "RangedDefense(AStarPathFinding)       0.54      0.54      0.54      1144\n",
      "   RangedRush(AStarPathFinding)       0.57      0.54      0.56      1249\n",
      "WorkerDefense(AStarPathFinding)       0.96      0.96      0.96      1263\n",
      "   WorkerRush(AStarPathFinding)       0.89      0.90      0.90       519\n",
      "\n",
      "                       accuracy                           0.74      9727\n",
      "                      macro avg       0.75      0.75      0.75      9727\n",
      "                   weighted avg       0.74      0.74      0.74      9727\n",
      "\n"
     ]
    }
   ],
   "source": [
    "# Make predictions on the test set\n",
    "y_pred = classifier.predict(X_test)\n",
    "# Evaluate performance\n",
    "print(\"Overall accuracy:\", accuracy_score(y_test, y_pred))\n",
    "print(\"Report:\")\n",
    "print(classification_report(y_test, y_pred, target_names=label_encoder.classes_))"
   ]
  },
  {
   "cell_type": "code",
   "execution_count": null,
   "id": "b0361c01-b3a0-45f5-850f-5439b32ab824",
   "metadata": {},
   "outputs": [],
   "source": []
  }
 ],
 "metadata": {
  "kernelspec": {
   "display_name": "Python 3 (ipykernel)",
   "language": "python",
   "name": "python3"
  },
  "language_info": {
   "codemirror_mode": {
    "name": "ipython",
    "version": 3
   },
   "file_extension": ".py",
   "mimetype": "text/x-python",
   "name": "python",
   "nbconvert_exporter": "python",
   "pygments_lexer": "ipython3",
   "version": "3.11.4"
  }
 },
 "nbformat": 4,
 "nbformat_minor": 5
}
