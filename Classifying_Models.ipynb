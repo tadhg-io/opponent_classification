{
 "cells": [
  {
   "cell_type": "markdown",
   "id": "b4159212-10dc-4f85-a20a-26e8646efbb0",
   "metadata": {},
   "source": [
    "### import libraries"
   ]
  },
  {
   "cell_type": "code",
   "execution_count": 176,
   "id": "cb1ad4dc-8315-4548-a3de-4fc5e7d38bea",
   "metadata": {},
   "outputs": [],
   "source": [
    "import pandas as pd\n",
    "import xml.etree.ElementTree as ET\n",
    "from collections import defaultdict\n",
    "import matplotlib.pyplot as plt\n",
    "import seaborn as sns\n",
    "import numpy as np\n",
    "import zipfile\n",
    "from sklearn.preprocessing import LabelEncoder\n",
    "from sklearn.model_selection import train_test_split\n",
    "from sklearn.ensemble import RandomForestClassifier\n",
    "from sklearn.metrics import classification_report, accuracy_score\n",
    "import time"
   ]
  },
  {
   "cell_type": "markdown",
   "id": "9c5de02d-0d2b-477b-9e05-591db7a779ce",
   "metadata": {},
   "source": [
    "### helper functions and classes"
   ]
  },
  {
   "cell_type": "code",
   "execution_count": 18,
   "id": "a0eaad96-0fa4-4555-85cb-50559cb99c29",
   "metadata": {},
   "outputs": [],
   "source": [
    "# Function to extract and parse XML from a zip file\n",
    "def extract_and_parse_xml(zip_path, file_name):\n",
    "    # use the xipfile library to get the content => https://docs.python.org/3/library/zipfile.html\n",
    "    with zipfile.ZipFile(zip_path, 'r') as zip_ref:\n",
    "        with zip_ref.open(file_name) as xml_file:\n",
    "            # Read the content of the file\n",
    "            xml_content = xml_file.read()\n",
    "            # Parse the XML to a python object => https://docs.python.org/3/library/xml.etree.elementtree.html\n",
    "            root = ET.fromstring(xml_content)\n",
    "    return root"
   ]
  },
  {
   "cell_type": "code",
   "execution_count": 237,
   "id": "e470e910-f516-45c0-a326-f6dc4f28f4c2",
   "metadata": {},
   "outputs": [],
   "source": [
    "# helper to find a specific row in the tournament summary file\n",
    "def find_row(filepath, content):\n",
    "    with open(filepath, 'r') as file:\n",
    "        for i, line in enumerate(file):\n",
    "            if content in line:\n",
    "                return i\n",
    "\n",
    "# define the header content globally, it is standard for all tournaments\n",
    "header_content = 'iteration\\tmap\\tai1\\tai2\\ttime\\twinner\\tcrashed\\ttimedout'\n",
    "\n",
    "# define the header content globally, it is standard for all tournaments\n",
    "maps_header_content = 'maps'"
   ]
  },
  {
   "cell_type": "code",
   "execution_count": 217,
   "id": "90a97183-213a-464f-9f95-614b6a482181",
   "metadata": {},
   "outputs": [],
   "source": [
    "# class to define an object containing tournament traces\n",
    "class TournamentAnalysis:\n",
    "\n",
    "    #### CONSTRUCTOR ####\n",
    "    # loads games and traces of the of the tournament\n",
    "    def __init__(self, name):\n",
    "        self.name = name\n",
    "        \n",
    "        # the path to the tournament summary file\n",
    "        tournament_summary_file = 'C:/source/MicroRTS/' + name + '/tournament.csv'\n",
    "   \n",
    "        # Find the number of models used in this tournament\n",
    "        n_models = find_row(tournament_summary_file, maps_header_content) - 2\n",
    "        \n",
    "        # read in the model names\n",
    "        ai_models = pd.read_table(tournament_summary_file, usecols=[1], sep='\\t', skiprows=1, nrows=n_models)\n",
    "        ai_models_list = ai_models.iloc[:,0].tolist()\n",
    "        # create a dict so we can use map()\n",
    "        model_names_dict = {i: name for i, name in enumerate(ai_models_list)}\n",
    "        \n",
    "        # Find the row number of the header\n",
    "        header_row = find_row(tournament_summary_file, header_content)\n",
    "\n",
    "        # load the tournament summary into a dataframe\n",
    "        footer_length = (n_models * 7) + 7\n",
    "        df_games = pd.read_table(tournament_summary_file, sep='\\t', skiprows=header_row, skipfooter=footer_length, engine='python')\n",
    "\n",
    "        # add the model names to the dataframe\n",
    "        df_games['ai1_name'] = df_games['ai1'].map(model_names_dict)\n",
    "        df_games['ai2_name'] = df_games['ai2'].map(model_names_dict)\n",
    "        \n",
    "        # winner columns, so we know which column won\n",
    "        df_games['winning_model'] = np.where(df_games['winner'] == 0, df_games['ai1'], np.where(df_games['winner'] == 1, df_games['ai2'], -1))\n",
    "        df_games['winning_model_name'] = df_games['winning_model'].map(model_names_dict)\n",
    "        # loser columns, so we know which model was beaten\n",
    "        df_games['losing_model'] = np.where(df_games['winner'] == 0, df_games['ai2'], np.where(df_games['winner'] == 1, df_games['ai2'], -1))\n",
    "        df_games['losing_model_name'] = df_games['losing_model'].map(model_names_dict)\n",
    "\n",
    "        # Initialize list to hold trace data\n",
    "        trace_data = []\n",
    "        # the path where traces are stored\n",
    "        traces_path = 'C:/source/MicroRTS/' + self.name + '/traces/'\n",
    "        \n",
    "        # loop through all games in the tournament summary\n",
    "        for index, row in df_games.iterrows():\n",
    "        \n",
    "            # compose the filename where the traces for this game will be stored\n",
    "            filename = \"%d-vs-%d-%d-%d.zip\" % (row['ai1'], row['ai2'], row['map'], row['iteration']) \n",
    "            # Load the XML file\n",
    "            root = extract_and_parse_xml(traces_path + filename, 'game.xml')\n",
    "            \n",
    "            # Iterate through each TraceEntry to extract timestep data\n",
    "            for entry in root.findall('.//rts.TraceEntry'):\n",
    "                # timestep ID if this TraceEntry in the game\n",
    "                time = int(entry.get('time'))\n",
    "                \n",
    "                # Extract players' data\n",
    "                players = entry.findall('.//rts.Player')\n",
    "                player_data = {f\"player_{player.get('ID')}_resources\": int(player.get('resources')) for player in players}\n",
    "                \n",
    "                # Initialize counters for unit types\n",
    "                unit_counts = defaultdict(int)\n",
    "                \n",
    "                # Extract units - count unit types for each player\n",
    "                units = entry.findall('.//rts.units.Unit')\n",
    "                for unit in units:\n",
    "                    unit_type = unit.get('type')\n",
    "                    player_id = unit.get('player')\n",
    "                    if player_id != '-1':  # Exclude neutral units like resources\n",
    "                        unit_counts[f\"player_{player_id}_{unit_type}_units\"] += 1\n",
    "                \n",
    "                # Extract actions' data\n",
    "                action_counts = defaultdict(int)\n",
    "                # get an array of action tags\n",
    "                actions = entry.findall('.//action')\n",
    "                # loop through each action\n",
    "                for action in actions:\n",
    "                    # the unit that the action was performed on\n",
    "                    unit_id = action.get('unitID')\n",
    "                    # the action that was performed\n",
    "                    unit_action = action.find('UnitAction')\n",
    "                    # if an action was defined\n",
    "                    if unit_action is not None:\n",
    "                        # action details\n",
    "                        action_type = unit_action.get('type')\n",
    "                        parameter = unit_action.get('parameter')\n",
    "                        for unit in units:\n",
    "                            if unit.get('ID') == unit_id:\n",
    "                                player_id = unit.get('player')\n",
    "                                break\n",
    "                        # create columns for player and action type, or player and parameter\n",
    "                        action_counts[f\"player_{player_id}_action_type_{action_type}_count\"] += 1\n",
    "                        action_counts[f\"player_{player_id}_action_parameter_{parameter}_count\"] += 1\n",
    "                \n",
    "                # Combine data for this timestep\n",
    "                timestep_data = {'time': time}\n",
    "                timestep_data.update(player_data)\n",
    "                timestep_data.update(unit_counts)\n",
    "                timestep_data.update(action_counts)\n",
    "        \n",
    "                # add label columns\n",
    "                timestep_data['opponent'] = row['ai2_name']\n",
    "                timestep_data['game_id'] = filename\n",
    "                \n",
    "                # Add to data list of traces\n",
    "                trace_data.append(timestep_data)\n",
    "        \n",
    "        # Create DataFrame from the traces\n",
    "        df = pd.DataFrame(trace_data)\n",
    "        \n",
    "        # Fill NaN values with 0 (in case there are no actions of certain types in some timesteps)\n",
    "        df = df.fillna(0)\n",
    "\n",
    "        # Set properties on this object\n",
    "        self.games = df_games\n",
    "        self.models = model_names_dict\n",
    "        self.traces = df  \n",
    "        self.n_models = n_models\n",
    "    \n",
    "    #### PREPROCESSING ####\n",
    "    # preprocesses data into sliding windows and train-test split\n",
    "    def preprocess(self, window_size = 5, test_size=0.2):\n",
    "        X, y = [], []\n",
    "        i = 0\n",
    "        df = self.traces\n",
    "        # loop through the timestep data\n",
    "        while i < len(df) - window_size:\n",
    "            # make sure the next N traces are within the same game (don't want to mix games in a window)\n",
    "            if df.iloc[i]['game_id'] == df.iloc[i + window_size]['game_id']:\n",
    "                # Take take N traces at a time\n",
    "                window = df.iloc[i:i + window_size]\n",
    "                X.append(window.drop(columns=['time', 'game_id', 'opponent']).values)\n",
    "                # Use the opponent label at the end of the window\n",
    "                y.append(window['opponent'].iloc[-1])\n",
    "                # increment i to make a sliding window starting with the next\n",
    "                i += 1\n",
    "            else:\n",
    "                # we need to skip to start a new window at the next different value\n",
    "                i = i + window_size - 1\n",
    "\n",
    "        X = np.array(X)\n",
    "        self.y = np.array(y)\n",
    "\n",
    "        # Encode the opponent labels\n",
    "        self.label_encoder = LabelEncoder()\n",
    "        y_encoded = self.label_encoder.fit_transform(y)\n",
    "\n",
    "        # We need to flatten the X array for Scikit-Learn\n",
    "        num_samples, window_size, num_features = X.shape\n",
    "        # Flatten each window\n",
    "        self.X = np.array([window.flatten() for window in X])\n",
    "        \n",
    "        # Split the data into training and testing sets\n",
    "        self.X_train, self.X_test, self.y_train, self.y_test = train_test_split(self.X, self.y, test_size=test_size, random_state=42, stratify=self.y)\n",
    "\n",
    "    #### TRAIN ####\n",
    "    def train(self):\n",
    "        # Initialize the classifier\n",
    "        self.classifier = RandomForestClassifier(n_estimators=100, random_state=42)\n",
    "        \n",
    "        # Train the classifier\n",
    "        self.classifier.fit(self.X_train, self.y_train)\n",
    "\n",
    "    #### EVALUATE ####\n",
    "    def evaluate(self, X_test, y_test):\n",
    "        # Make predictions on the test set\n",
    "        y_pred = self.classifier.predict(X_test)\n",
    "        # Evaluate performance\n",
    "        print(\"Overall accuracy:\", accuracy_score(y_test, y_pred))\n",
    "        print(\"Report:\")\n",
    "        print(classification_report(y_test, y_pred, target_names=self.label_encoder.classes_))\n",
    "        return y_pred\n",
    "        "
   ]
  },
  {
   "cell_type": "code",
   "execution_count": 219,
   "id": "bd3baabe-83ec-44b1-983d-f8190ca5cd5b",
   "metadata": {},
   "outputs": [
    {
     "name": "stdout",
     "output_type": "stream",
     "text": [
      "CPU times: total: 1 s\n",
      "Wall time: 3.28 s\n"
     ]
    }
   ],
   "source": [
    "%%time\n",
    "t7 = TournamentAnalysis(\"tournament_7\")"
   ]
  },
  {
   "cell_type": "code",
   "execution_count": 221,
   "id": "63f2efbc-ad15-45ba-9810-7317a04c8d74",
   "metadata": {},
   "outputs": [
    {
     "name": "stdout",
     "output_type": "stream",
     "text": [
      "CPU times: total: 1.66 s\n",
      "Wall time: 7.78 s\n"
     ]
    }
   ],
   "source": [
    "%%time\n",
    "t7.preprocess()"
   ]
  },
  {
   "cell_type": "code",
   "execution_count": 207,
   "id": "47afe8b6-b747-40a2-ac8d-8db67676f5cd",
   "metadata": {},
   "outputs": [
    {
     "name": "stdout",
     "output_type": "stream",
     "text": [
      "CPU times: total: 93.8 ms\n",
      "Wall time: 975 ms\n"
     ]
    }
   ],
   "source": [
    "%%time\n",
    "t7.train()"
   ]
  },
  {
   "cell_type": "code",
   "execution_count": 209,
   "id": "288b0528-7dd8-4e36-9c6a-d88961fdc58d",
   "metadata": {},
   "outputs": [
    {
     "name": "stdout",
     "output_type": "stream",
     "text": [
      "Overall accuracy: 0.9326837909654562\n",
      "Report:\n",
      "                              precision    recall  f1-score   support\n",
      "\n",
      " HeavyRush(AStarPathFinding)       0.92      0.90      0.91      1113\n",
      " LightRush(AStarPathFinding)       0.93      0.94      0.94      1672\n",
      "RangedRush(AStarPathFinding)       0.91      0.91      0.91      1111\n",
      "WorkerRush(AStarPathFinding)       1.00      1.00      1.00       620\n",
      "\n",
      "                    accuracy                           0.93      4516\n",
      "                   macro avg       0.94      0.94      0.94      4516\n",
      "                weighted avg       0.93      0.93      0.93      4516\n",
      "\n",
      "CPU times: total: 78.1 ms\n",
      "Wall time: 107 ms\n"
     ]
    },
    {
     "data": {
      "text/plain": [
       "array(['LightRush(AStarPathFinding)', 'RangedRush(AStarPathFinding)',\n",
       "       'LightRush(AStarPathFinding)', ..., 'WorkerRush(AStarPathFinding)',\n",
       "       'LightRush(AStarPathFinding)', 'HeavyRush(AStarPathFinding)'],\n",
       "      dtype='<U28')"
      ]
     },
     "execution_count": 209,
     "metadata": {},
     "output_type": "execute_result"
    }
   ],
   "source": [
    "t7.evaluate(t7.X_test, t7.y_test)"
   ]
  },
  {
   "cell_type": "code",
   "execution_count": 223,
   "id": "caa59ae8-9d81-4ed4-b71b-af80339c633f",
   "metadata": {
    "scrolled": true
   },
   "outputs": [
    {
     "name": "stdout",
     "output_type": "stream",
     "text": [
      "CPU times: total: 2min 45s\n",
      "Wall time: 10min 6s\n"
     ]
    }
   ],
   "source": [
    "%%time\n",
    "t5 = TournamentAnalysis(\"tournament_5\")"
   ]
  },
  {
   "cell_type": "code",
   "execution_count": 225,
   "id": "1ebe89ea-974d-4f92-b360-f484446186fb",
   "metadata": {},
   "outputs": [
    {
     "name": "stdout",
     "output_type": "stream",
     "text": [
      "CPU times: total: 4min 13s\n",
      "Wall time: 20min 58s\n"
     ]
    }
   ],
   "source": [
    "%%time\n",
    "t5.preprocess()"
   ]
  },
  {
   "cell_type": "code",
   "execution_count": 227,
   "id": "e8eed9ad-3bff-4f9b-b075-79a34c1e65cc",
   "metadata": {},
   "outputs": [
    {
     "name": "stdout",
     "output_type": "stream",
     "text": [
      "CPU times: total: 3min 6s\n",
      "Wall time: 10min 3s\n"
     ]
    }
   ],
   "source": [
    "%%time\n",
    "t5.train()"
   ]
  },
  {
   "cell_type": "code",
   "execution_count": 233,
   "id": "5a5448ff-74e8-46d8-899c-cb426b286cd6",
   "metadata": {},
   "outputs": [
    {
     "name": "stdout",
     "output_type": "stream",
     "text": [
      "Overall accuracy: 0.8096149140493195\n",
      "Report:\n",
      "                                 precision    recall  f1-score   support\n",
      "\n",
      " HeavyDefense(AStarPathFinding)       0.81      0.79      0.80    120919\n",
      "    HeavyRush(AStarPathFinding)       0.79      0.78      0.78    116624\n",
      " LightDefense(AStarPathFinding)       0.83      0.92      0.87     87741\n",
      "    LightRush(AStarPathFinding)       0.88      0.87      0.87     71384\n",
      "RangedDefense(AStarPathFinding)       0.70      0.68      0.69     95019\n",
      "   RangedRush(AStarPathFinding)       0.68      0.67      0.68     92311\n",
      "WorkerDefense(AStarPathFinding)       0.98      0.98      0.98     87140\n",
      "   WorkerRush(AStarPathFinding)       0.93      0.93      0.93     27693\n",
      "\n",
      "                       accuracy                           0.81    698831\n",
      "                      macro avg       0.82      0.83      0.82    698831\n",
      "                   weighted avg       0.81      0.81      0.81    698831\n",
      "\n",
      "CPU times: total: 7.16 s\n",
      "Wall time: 27.5 s\n"
     ]
    },
    {
     "data": {
      "text/plain": [
       "array(['LightDefense(AStarPathFinding)', 'LightDefense(AStarPathFinding)',\n",
       "       'WorkerDefense(AStarPathFinding)', ...,\n",
       "       'RangedRush(AStarPathFinding)', 'WorkerDefense(AStarPathFinding)',\n",
       "       'LightDefense(AStarPathFinding)'], dtype='<U31')"
      ]
     },
     "execution_count": 233,
     "metadata": {},
     "output_type": "execute_result"
    }
   ],
   "source": [
    "%%time\n",
    "t5.evaluate(t5.X_test, t5.y_test)"
   ]
  },
  {
   "cell_type": "code",
   "execution_count": 235,
   "id": "1dabac7f-6db9-4a70-90e4-0849d80e9f7e",
   "metadata": {},
   "outputs": [
    {
     "data": {
      "text/plain": [
       "{0: 'WorkerRush(AStarPathFinding)',\n",
       " 1: 'LightRush(AStarPathFinding)',\n",
       " 2: 'HeavyRush(AStarPathFinding)',\n",
       " 3: 'RangedRush(AStarPathFinding)',\n",
       " 4: 'WorkerDefense(AStarPathFinding)',\n",
       " 5: 'LightDefense(AStarPathFinding)',\n",
       " 6: 'HeavyDefense(AStarPathFinding)',\n",
       " 7: 'RangedDefense(AStarPathFinding)',\n",
       " 8: nan,\n",
       " 9: 'C:\\\\source\\\\MicroRTS\\\\maps\\\\16x16\\\\basesWorkers16x16.xml',\n",
       " 10: '100',\n",
       " 11: '5000',\n",
       " 12: '100',\n",
       " 13: '-1',\n",
       " 14: '1000',\n",
       " 15: 'TRUE',\n",
       " 16: 'TRUE',\n",
       " 17: 'TRUE',\n",
       " 18: 'FALSE'}"
      ]
     },
     "execution_count": 235,
     "metadata": {},
     "output_type": "execute_result"
    }
   ],
   "source": [
    "t5.models"
   ]
  },
  {
   "cell_type": "markdown",
   "id": "1a9b11f7-276e-4e2f-901f-13dc0c7b6c30",
   "metadata": {},
   "source": [
    "### Tournament 8 - 8 models, 25 iterations"
   ]
  },
  {
   "cell_type": "code",
   "execution_count": 242,
   "id": "5269ac13-1e65-46a0-8c80-b31d8d3bb7d5",
   "metadata": {},
   "outputs": [
    {
     "name": "stdout",
     "output_type": "stream",
     "text": [
      "CPU times: total: 17.5 s\n",
      "Wall time: 1min 55s\n"
     ]
    }
   ],
   "source": [
    "%%time\n",
    "# load tournament info\n",
    "tournament_8 = TournamentAnalysis(\"tournament_8\")"
   ]
  },
  {
   "cell_type": "code",
   "execution_count": 244,
   "id": "d8661aff-4fa3-4014-a384-3d1fdc363118",
   "metadata": {},
   "outputs": [
    {
     "data": {
      "text/plain": [
       "{0: 'WorkerRush(AStarPathFinding)',\n",
       " 1: 'LightRush(AStarPathFinding)',\n",
       " 2: 'HeavyRush(AStarPathFinding)',\n",
       " 3: 'RangedRush(AStarPathFinding)',\n",
       " 4: 'WorkerDefense(AStarPathFinding)',\n",
       " 5: 'LightDefense(AStarPathFinding)',\n",
       " 6: 'HeavyDefense(AStarPathFinding)',\n",
       " 7: 'RangedDefense(AStarPathFinding)'}"
      ]
     },
     "execution_count": 244,
     "metadata": {},
     "output_type": "execute_result"
    }
   ],
   "source": [
    "# view the models in the tournament\n",
    "tournament_8.models"
   ]
  },
  {
   "cell_type": "code",
   "execution_count": 246,
   "id": "b3a15ace-51f9-425a-8190-160c18cb2e50",
   "metadata": {},
   "outputs": [
    {
     "name": "stdout",
     "output_type": "stream",
     "text": [
      "CPU times: total: 1min 32s\n",
      "Wall time: 3min 50s\n"
     ]
    }
   ],
   "source": [
    "%%time\n",
    "# preprocess the data\n",
    "tournament_8.preprocess()"
   ]
  },
  {
   "cell_type": "code",
   "execution_count": 248,
   "id": "2abd8721-49a5-4e97-8c94-99ac4249d2bd",
   "metadata": {},
   "outputs": [
    {
     "name": "stdout",
     "output_type": "stream",
     "text": [
      "CPU times: total: 20.2 s\n",
      "Wall time: 1min 28s\n"
     ]
    }
   ],
   "source": [
    "%%time\n",
    "tournament_8.train()"
   ]
  },
  {
   "cell_type": "code",
   "execution_count": 254,
   "id": "5447de97-2d8b-4e8d-982d-2818038d0c1f",
   "metadata": {},
   "outputs": [
    {
     "name": "stdout",
     "output_type": "stream",
     "text": [
      "Overall accuracy: 0.782607333615275\n",
      "Report:\n",
      "                                 precision    recall  f1-score   support\n",
      "\n",
      " HeavyDefense(AStarPathFinding)       0.77      0.75      0.76     20320\n",
      "    HeavyRush(AStarPathFinding)       0.74      0.71      0.72     17820\n",
      " LightDefense(AStarPathFinding)       0.77      0.90      0.83     17885\n",
      "    LightRush(AStarPathFinding)       0.88      0.86      0.87     18035\n",
      "RangedDefense(AStarPathFinding)       0.63      0.57      0.60     14920\n",
      "   RangedRush(AStarPathFinding)       0.66      0.67      0.67     17000\n",
      "WorkerDefense(AStarPathFinding)       0.98      0.96      0.97     16150\n",
      "   WorkerRush(AStarPathFinding)       0.89      0.93      0.91      5556\n",
      "\n",
      "                       accuracy                           0.78    127686\n",
      "                      macro avg       0.79      0.79      0.79    127686\n",
      "                   weighted avg       0.78      0.78      0.78    127686\n",
      "\n",
      "CPU times: total: 1.09 s\n",
      "Wall time: 5.1 s\n"
     ]
    },
    {
     "data": {
      "text/plain": [
       "array(['WorkerDefense(AStarPathFinding)',\n",
       "       'LightDefense(AStarPathFinding)', 'RangedRush(AStarPathFinding)',\n",
       "       ..., 'LightRush(AStarPathFinding)',\n",
       "       'HeavyDefense(AStarPathFinding)', 'LightDefense(AStarPathFinding)'],\n",
       "      dtype='<U31')"
      ]
     },
     "execution_count": 254,
     "metadata": {},
     "output_type": "execute_result"
    }
   ],
   "source": [
    "%%time\n",
    "# evaluate the model trained on this tournament\n",
    "tournament_8.evaluate(tournament_8.X_test, tournament_8.y_test)"
   ]
  },
  {
   "cell_type": "markdown",
   "id": "c1fa5e44-e1dd-4067-9213-0ceb256b037c",
   "metadata": {},
   "source": [
    "### Tournament 10 - 5 models, 25 iterations"
   ]
  },
  {
   "cell_type": "code",
   "execution_count": 260,
   "id": "2c066863-212a-497a-a6bb-7b047ab63147",
   "metadata": {},
   "outputs": [
    {
     "name": "stdout",
     "output_type": "stream",
     "text": [
      "CPU times: total: 7.48 s\n",
      "Wall time: 49.5 s\n"
     ]
    }
   ],
   "source": [
    "%%time\n",
    "# load tournament info\n",
    "tournament_10 = TournamentAnalysis(\"tournament_10\")"
   ]
  },
  {
   "cell_type": "code",
   "execution_count": 262,
   "id": "6e0aa4fc-43c6-4dfb-8ec5-f0407a84b9e4",
   "metadata": {},
   "outputs": [
    {
     "data": {
      "text/plain": [
       "{0: 'CoacAI(AStarPathFinding)',\n",
       " 1: 'WorkerRush(AStarPathFinding)',\n",
       " 2: 'LightRush(AStarPathFinding)',\n",
       " 3: 'HeavyRush(AStarPathFinding)',\n",
       " 4: 'RangedRush(AStarPathFinding)'}"
      ]
     },
     "execution_count": 262,
     "metadata": {},
     "output_type": "execute_result"
    }
   ],
   "source": [
    "# view the models in the tournament\n",
    "tournament_10.models"
   ]
  },
  {
   "cell_type": "code",
   "execution_count": 264,
   "id": "ffac8eea-848d-4139-a7da-517cb964c532",
   "metadata": {},
   "outputs": [
    {
     "name": "stdout",
     "output_type": "stream",
     "text": [
      "CPU times: total: 31.1 s\n",
      "Wall time: 2min 11s\n"
     ]
    }
   ],
   "source": [
    "%%time\n",
    "# preprocess the data\n",
    "tournament_10.preprocess()"
   ]
  },
  {
   "cell_type": "code",
   "execution_count": 266,
   "id": "68350ab4-6d5b-46a3-869d-cf9a0f5bb7fa",
   "metadata": {},
   "outputs": [
    {
     "name": "stdout",
     "output_type": "stream",
     "text": [
      "CPU times: total: 11.4 s\n",
      "Wall time: 24 s\n"
     ]
    }
   ],
   "source": [
    "%%time\n",
    "tournament_10.train()"
   ]
  },
  {
   "cell_type": "code",
   "execution_count": 268,
   "id": "48fd6713-6f2a-49f5-9350-18641c36e610",
   "metadata": {},
   "outputs": [
    {
     "name": "stdout",
     "output_type": "stream",
     "text": [
      "Overall accuracy: 0.9321015917476905\n",
      "Report:\n",
      "                              precision    recall  f1-score   support\n",
      "\n",
      "    CoacAI(AStarPathFinding)       1.00      1.00      1.00     34603\n",
      " HeavyRush(AStarPathFinding)       0.80      0.84      0.82      9595\n",
      " LightRush(AStarPathFinding)       0.89      0.87      0.88     13470\n",
      "RangedRush(AStarPathFinding)       0.87      0.85      0.86     12015\n",
      "WorkerRush(AStarPathFinding)       1.00      1.00      1.00      4575\n",
      "\n",
      "                    accuracy                           0.93     74258\n",
      "                   macro avg       0.91      0.91      0.91     74258\n",
      "                weighted avg       0.93      0.93      0.93     74258\n",
      "\n",
      "CPU times: total: 953 ms\n",
      "Wall time: 1.99 s\n"
     ]
    },
    {
     "data": {
      "text/plain": [
       "array(['CoacAI(AStarPathFinding)', 'LightRush(AStarPathFinding)',\n",
       "       'HeavyRush(AStarPathFinding)', ..., 'LightRush(AStarPathFinding)',\n",
       "       'CoacAI(AStarPathFinding)', 'CoacAI(AStarPathFinding)'],\n",
       "      dtype='<U28')"
      ]
     },
     "execution_count": 268,
     "metadata": {},
     "output_type": "execute_result"
    }
   ],
   "source": [
    "%%time\n",
    "# evaluate the model trained on this tournament\n",
    "tournament_10.evaluate(tournament_10.X_test, tournament_10.y_test)"
   ]
  },
  {
   "cell_type": "code",
   "execution_count": 296,
   "id": "9bc98745-c415-49b6-a40b-d1452bd28688",
   "metadata": {},
   "outputs": [
    {
     "name": "stdout",
     "output_type": "stream",
     "text": [
      "['WorkerRush(AStarPathFinding)' 'WorkerRush(AStarPathFinding)'\n",
      " 'WorkerRush(AStarPathFinding)' ... 'HeavyRush(AStarPathFinding)'\n",
      " 'HeavyRush(AStarPathFinding)' 'HeavyRush(AStarPathFinding)']\n",
      "['WorkerRush(AStarPathFinding)' 'WorkerRush(AStarPathFinding)'\n",
      " 'WorkerRush(AStarPathFinding)' ... 'HeavyRush(AStarPathFinding)'\n",
      " 'HeavyRush(AStarPathFinding)' 'HeavyRush(AStarPathFinding)']\n",
      "['WorkerRush(AStarPathFinding)' 'WorkerRush(AStarPathFinding)'\n",
      " 'WorkerRush(AStarPathFinding)' ... 'HeavyRush(AStarPathFinding)'\n",
      " 'HeavyRush(AStarPathFinding)' 'HeavyRush(AStarPathFinding)']\n",
      "['WorkerRush(AStarPathFinding)' 'WorkerRush(AStarPathFinding)'\n",
      " 'WorkerRush(AStarPathFinding)' ... 'HeavyRush(AStarPathFinding)'\n",
      " 'HeavyRush(AStarPathFinding)' 'HeavyRush(AStarPathFinding)']\n",
      "['WorkerRush(AStarPathFinding)' 'WorkerRush(AStarPathFinding)'\n",
      " 'WorkerRush(AStarPathFinding)' ... 'HeavyRush(AStarPathFinding)'\n",
      " 'HeavyRush(AStarPathFinding)' 'HeavyRush(AStarPathFinding)']\n",
      "['WorkerRush(AStarPathFinding)' 'WorkerRush(AStarPathFinding)'\n",
      " 'WorkerRush(AStarPathFinding)' ... 'HeavyRush(AStarPathFinding)'\n",
      " 'HeavyRush(AStarPathFinding)' 'HeavyRush(AStarPathFinding)']\n",
      "['WorkerRush(AStarPathFinding)' 'WorkerRush(AStarPathFinding)'\n",
      " 'WorkerRush(AStarPathFinding)' ... 'HeavyRush(AStarPathFinding)'\n",
      " 'HeavyRush(AStarPathFinding)' 'HeavyRush(AStarPathFinding)']\n",
      "['WorkerRush(AStarPathFinding)' 'WorkerRush(AStarPathFinding)'\n",
      " 'WorkerRush(AStarPathFinding)' ... 'HeavyRush(AStarPathFinding)'\n",
      " 'HeavyRush(AStarPathFinding)' 'HeavyRush(AStarPathFinding)']\n",
      "['WorkerRush(AStarPathFinding)' 'WorkerRush(AStarPathFinding)'\n",
      " 'WorkerRush(AStarPathFinding)' ... 'HeavyRush(AStarPathFinding)'\n",
      " 'HeavyRush(AStarPathFinding)' 'HeavyRush(AStarPathFinding)']\n"
     ]
    }
   ],
   "source": [
    "# loop throuh the CoacAI games from tournament 10 and predict them\n",
    "for i in range (10):\n",
    "    if(tournament_10.X[i][7] == 0):\n",
    "        print(tournament_8.classifier.predict(tournament_10.X))"
   ]
  },
  {
   "cell_type": "code",
   "execution_count": 290,
   "id": "6314b3a1-94c6-433c-8043-ec24856e91db",
   "metadata": {},
   "outputs": [
    {
     "data": {
      "text/plain": [
       "array([5., 5., 1., 1., 1., 1., 0., 0., 0., 0., 0., 0., 0., 0., 0., 0., 0.,\n",
       "       0., 0., 0., 0., 0., 0., 0., 0., 0., 0., 0., 0., 0., 0., 0., 0., 0.,\n",
       "       0., 0., 0., 0., 5., 5., 1., 1., 1., 1., 1., 1., 1., 1., 1., 1., 1.,\n",
       "       1., 0., 0., 0., 0., 0., 0., 0., 0., 0., 0., 0., 0., 0., 0., 0., 0.,\n",
       "       0., 0., 0., 0., 0., 0., 0., 0., 5., 5., 1., 1., 1., 1., 0., 0., 0.,\n",
       "       1., 0., 0., 0., 0., 1., 1., 1., 0., 0., 0., 0., 0., 0., 0., 0., 0.,\n",
       "       0., 0., 0., 0., 0., 0., 0., 0., 0., 0., 0., 0., 5., 5., 1., 1., 1.,\n",
       "       1., 0., 0., 0., 0., 0., 0., 0., 1., 0., 0., 0., 1., 1., 1., 0., 0.,\n",
       "       0., 0., 0., 0., 0., 0., 0., 0., 0., 0., 0., 0., 0., 0., 0., 0., 6.,\n",
       "       6., 1., 1., 1., 1., 0., 0., 1., 1., 0., 0., 1., 0., 0., 0., 0., 0.,\n",
       "       0., 0., 1., 0., 0., 0., 0., 0., 0., 0., 0., 0., 0., 0., 0., 0., 0.,\n",
       "       0., 0., 0.])"
      ]
     },
     "execution_count": 290,
     "metadata": {},
     "output_type": "execute_result"
    }
   ],
   "source": [
    "tournament_10.X[0]"
   ]
  },
  {
   "cell_type": "code",
   "execution_count": 292,
   "id": "38ac335e-9e5c-4d61-a6e1-8110a7971830",
   "metadata": {},
   "outputs": [
    {
     "data": {
      "text/html": [
       "<div>\n",
       "<style scoped>\n",
       "    .dataframe tbody tr th:only-of-type {\n",
       "        vertical-align: middle;\n",
       "    }\n",
       "\n",
       "    .dataframe tbody tr th {\n",
       "        vertical-align: top;\n",
       "    }\n",
       "\n",
       "    .dataframe thead th {\n",
       "        text-align: right;\n",
       "    }\n",
       "</style>\n",
       "<table border=\"1\" class=\"dataframe\">\n",
       "  <thead>\n",
       "    <tr style=\"text-align: right;\">\n",
       "      <th></th>\n",
       "      <th>time</th>\n",
       "      <th>player_0_resources</th>\n",
       "      <th>player_1_resources</th>\n",
       "      <th>player_0_Base_units</th>\n",
       "      <th>player_1_Base_units</th>\n",
       "      <th>player_0_Worker_units</th>\n",
       "      <th>player_1_Worker_units</th>\n",
       "      <th>opponent</th>\n",
       "      <th>game_id</th>\n",
       "      <th>player_0_action_type_2_count</th>\n",
       "      <th>...</th>\n",
       "      <th>player_1_Ranged_units</th>\n",
       "      <th>player_0_Ranged_units</th>\n",
       "      <th>player_1_action_type_5_count</th>\n",
       "      <th>player_1_action_parameter_None_count</th>\n",
       "      <th>player_0_action_type_5_count</th>\n",
       "      <th>player_0_action_parameter_None_count</th>\n",
       "      <th>player_1_action_parameter_10_count</th>\n",
       "      <th>player_1_Light_units</th>\n",
       "      <th>player_0_action_parameter_10_count</th>\n",
       "      <th>player_0_Light_units</th>\n",
       "    </tr>\n",
       "  </thead>\n",
       "  <tbody>\n",
       "    <tr>\n",
       "      <th>0</th>\n",
       "      <td>0</td>\n",
       "      <td>5</td>\n",
       "      <td>5</td>\n",
       "      <td>1.0</td>\n",
       "      <td>1.0</td>\n",
       "      <td>1.0</td>\n",
       "      <td>1.0</td>\n",
       "      <td>CoacAI(AStarPathFinding)</td>\n",
       "      <td>0-vs-0-0-0.zip</td>\n",
       "      <td>0.0</td>\n",
       "      <td>...</td>\n",
       "      <td>0.0</td>\n",
       "      <td>0.0</td>\n",
       "      <td>0.0</td>\n",
       "      <td>0.0</td>\n",
       "      <td>0.0</td>\n",
       "      <td>0.0</td>\n",
       "      <td>0.0</td>\n",
       "      <td>0.0</td>\n",
       "      <td>0.0</td>\n",
       "      <td>0.0</td>\n",
       "    </tr>\n",
       "    <tr>\n",
       "      <th>1</th>\n",
       "      <td>0</td>\n",
       "      <td>5</td>\n",
       "      <td>5</td>\n",
       "      <td>1.0</td>\n",
       "      <td>1.0</td>\n",
       "      <td>1.0</td>\n",
       "      <td>1.0</td>\n",
       "      <td>CoacAI(AStarPathFinding)</td>\n",
       "      <td>0-vs-0-0-0.zip</td>\n",
       "      <td>1.0</td>\n",
       "      <td>...</td>\n",
       "      <td>0.0</td>\n",
       "      <td>0.0</td>\n",
       "      <td>0.0</td>\n",
       "      <td>0.0</td>\n",
       "      <td>0.0</td>\n",
       "      <td>0.0</td>\n",
       "      <td>0.0</td>\n",
       "      <td>0.0</td>\n",
       "      <td>0.0</td>\n",
       "      <td>0.0</td>\n",
       "    </tr>\n",
       "    <tr>\n",
       "      <th>2</th>\n",
       "      <td>20</td>\n",
       "      <td>5</td>\n",
       "      <td>5</td>\n",
       "      <td>1.0</td>\n",
       "      <td>1.0</td>\n",
       "      <td>1.0</td>\n",
       "      <td>1.0</td>\n",
       "      <td>CoacAI(AStarPathFinding)</td>\n",
       "      <td>0-vs-0-0-0.zip</td>\n",
       "      <td>0.0</td>\n",
       "      <td>...</td>\n",
       "      <td>0.0</td>\n",
       "      <td>0.0</td>\n",
       "      <td>0.0</td>\n",
       "      <td>0.0</td>\n",
       "      <td>0.0</td>\n",
       "      <td>0.0</td>\n",
       "      <td>0.0</td>\n",
       "      <td>0.0</td>\n",
       "      <td>0.0</td>\n",
       "      <td>0.0</td>\n",
       "    </tr>\n",
       "    <tr>\n",
       "      <th>3</th>\n",
       "      <td>30</td>\n",
       "      <td>5</td>\n",
       "      <td>5</td>\n",
       "      <td>1.0</td>\n",
       "      <td>1.0</td>\n",
       "      <td>1.0</td>\n",
       "      <td>1.0</td>\n",
       "      <td>CoacAI(AStarPathFinding)</td>\n",
       "      <td>0-vs-0-0-0.zip</td>\n",
       "      <td>0.0</td>\n",
       "      <td>...</td>\n",
       "      <td>0.0</td>\n",
       "      <td>0.0</td>\n",
       "      <td>0.0</td>\n",
       "      <td>0.0</td>\n",
       "      <td>0.0</td>\n",
       "      <td>0.0</td>\n",
       "      <td>0.0</td>\n",
       "      <td>0.0</td>\n",
       "      <td>0.0</td>\n",
       "      <td>0.0</td>\n",
       "    </tr>\n",
       "    <tr>\n",
       "      <th>4</th>\n",
       "      <td>40</td>\n",
       "      <td>6</td>\n",
       "      <td>6</td>\n",
       "      <td>1.0</td>\n",
       "      <td>1.0</td>\n",
       "      <td>1.0</td>\n",
       "      <td>1.0</td>\n",
       "      <td>CoacAI(AStarPathFinding)</td>\n",
       "      <td>0-vs-0-0-0.zip</td>\n",
       "      <td>0.0</td>\n",
       "      <td>...</td>\n",
       "      <td>0.0</td>\n",
       "      <td>0.0</td>\n",
       "      <td>0.0</td>\n",
       "      <td>0.0</td>\n",
       "      <td>0.0</td>\n",
       "      <td>0.0</td>\n",
       "      <td>0.0</td>\n",
       "      <td>0.0</td>\n",
       "      <td>0.0</td>\n",
       "      <td>0.0</td>\n",
       "    </tr>\n",
       "    <tr>\n",
       "      <th>...</th>\n",
       "      <td>...</td>\n",
       "      <td>...</td>\n",
       "      <td>...</td>\n",
       "      <td>...</td>\n",
       "      <td>...</td>\n",
       "      <td>...</td>\n",
       "      <td>...</td>\n",
       "      <td>...</td>\n",
       "      <td>...</td>\n",
       "      <td>...</td>\n",
       "      <td>...</td>\n",
       "      <td>...</td>\n",
       "      <td>...</td>\n",
       "      <td>...</td>\n",
       "      <td>...</td>\n",
       "      <td>...</td>\n",
       "      <td>...</td>\n",
       "      <td>...</td>\n",
       "      <td>...</td>\n",
       "      <td>...</td>\n",
       "      <td>...</td>\n",
       "    </tr>\n",
       "    <tr>\n",
       "      <th>376280</th>\n",
       "      <td>2960</td>\n",
       "      <td>2</td>\n",
       "      <td>2</td>\n",
       "      <td>1.0</td>\n",
       "      <td>1.0</td>\n",
       "      <td>1.0</td>\n",
       "      <td>1.0</td>\n",
       "      <td>RangedRush(AStarPathFinding)</td>\n",
       "      <td>4-vs-4-0-24.zip</td>\n",
       "      <td>0.0</td>\n",
       "      <td>...</td>\n",
       "      <td>1.0</td>\n",
       "      <td>1.0</td>\n",
       "      <td>0.0</td>\n",
       "      <td>0.0</td>\n",
       "      <td>0.0</td>\n",
       "      <td>0.0</td>\n",
       "      <td>1.0</td>\n",
       "      <td>0.0</td>\n",
       "      <td>1.0</td>\n",
       "      <td>0.0</td>\n",
       "    </tr>\n",
       "    <tr>\n",
       "      <th>376281</th>\n",
       "      <td>2970</td>\n",
       "      <td>2</td>\n",
       "      <td>2</td>\n",
       "      <td>1.0</td>\n",
       "      <td>1.0</td>\n",
       "      <td>1.0</td>\n",
       "      <td>1.0</td>\n",
       "      <td>RangedRush(AStarPathFinding)</td>\n",
       "      <td>4-vs-4-0-24.zip</td>\n",
       "      <td>0.0</td>\n",
       "      <td>...</td>\n",
       "      <td>1.0</td>\n",
       "      <td>1.0</td>\n",
       "      <td>0.0</td>\n",
       "      <td>0.0</td>\n",
       "      <td>0.0</td>\n",
       "      <td>0.0</td>\n",
       "      <td>1.0</td>\n",
       "      <td>0.0</td>\n",
       "      <td>1.0</td>\n",
       "      <td>0.0</td>\n",
       "    </tr>\n",
       "    <tr>\n",
       "      <th>376282</th>\n",
       "      <td>2980</td>\n",
       "      <td>3</td>\n",
       "      <td>3</td>\n",
       "      <td>1.0</td>\n",
       "      <td>1.0</td>\n",
       "      <td>1.0</td>\n",
       "      <td>1.0</td>\n",
       "      <td>RangedRush(AStarPathFinding)</td>\n",
       "      <td>4-vs-4-0-24.zip</td>\n",
       "      <td>0.0</td>\n",
       "      <td>...</td>\n",
       "      <td>1.0</td>\n",
       "      <td>1.0</td>\n",
       "      <td>1.0</td>\n",
       "      <td>1.0</td>\n",
       "      <td>1.0</td>\n",
       "      <td>1.0</td>\n",
       "      <td>1.0</td>\n",
       "      <td>0.0</td>\n",
       "      <td>1.0</td>\n",
       "      <td>0.0</td>\n",
       "    </tr>\n",
       "    <tr>\n",
       "      <th>376283</th>\n",
       "      <td>2990</td>\n",
       "      <td>3</td>\n",
       "      <td>3</td>\n",
       "      <td>1.0</td>\n",
       "      <td>1.0</td>\n",
       "      <td>1.0</td>\n",
       "      <td>1.0</td>\n",
       "      <td>RangedRush(AStarPathFinding)</td>\n",
       "      <td>4-vs-4-0-24.zip</td>\n",
       "      <td>0.0</td>\n",
       "      <td>...</td>\n",
       "      <td>0.0</td>\n",
       "      <td>0.0</td>\n",
       "      <td>0.0</td>\n",
       "      <td>0.0</td>\n",
       "      <td>0.0</td>\n",
       "      <td>0.0</td>\n",
       "      <td>1.0</td>\n",
       "      <td>0.0</td>\n",
       "      <td>1.0</td>\n",
       "      <td>0.0</td>\n",
       "    </tr>\n",
       "    <tr>\n",
       "      <th>376284</th>\n",
       "      <td>3000</td>\n",
       "      <td>3</td>\n",
       "      <td>3</td>\n",
       "      <td>1.0</td>\n",
       "      <td>1.0</td>\n",
       "      <td>1.0</td>\n",
       "      <td>1.0</td>\n",
       "      <td>RangedRush(AStarPathFinding)</td>\n",
       "      <td>4-vs-4-0-24.zip</td>\n",
       "      <td>0.0</td>\n",
       "      <td>...</td>\n",
       "      <td>0.0</td>\n",
       "      <td>0.0</td>\n",
       "      <td>0.0</td>\n",
       "      <td>0.0</td>\n",
       "      <td>0.0</td>\n",
       "      <td>0.0</td>\n",
       "      <td>0.0</td>\n",
       "      <td>0.0</td>\n",
       "      <td>0.0</td>\n",
       "      <td>0.0</td>\n",
       "    </tr>\n",
       "  </tbody>\n",
       "</table>\n",
       "<p>376285 rows × 41 columns</p>\n",
       "</div>"
      ],
      "text/plain": [
       "        time  player_0_resources  player_1_resources  player_0_Base_units  \\\n",
       "0          0                   5                   5                  1.0   \n",
       "1          0                   5                   5                  1.0   \n",
       "2         20                   5                   5                  1.0   \n",
       "3         30                   5                   5                  1.0   \n",
       "4         40                   6                   6                  1.0   \n",
       "...      ...                 ...                 ...                  ...   \n",
       "376280  2960                   2                   2                  1.0   \n",
       "376281  2970                   2                   2                  1.0   \n",
       "376282  2980                   3                   3                  1.0   \n",
       "376283  2990                   3                   3                  1.0   \n",
       "376284  3000                   3                   3                  1.0   \n",
       "\n",
       "        player_1_Base_units  player_0_Worker_units  player_1_Worker_units  \\\n",
       "0                       1.0                    1.0                    1.0   \n",
       "1                       1.0                    1.0                    1.0   \n",
       "2                       1.0                    1.0                    1.0   \n",
       "3                       1.0                    1.0                    1.0   \n",
       "4                       1.0                    1.0                    1.0   \n",
       "...                     ...                    ...                    ...   \n",
       "376280                  1.0                    1.0                    1.0   \n",
       "376281                  1.0                    1.0                    1.0   \n",
       "376282                  1.0                    1.0                    1.0   \n",
       "376283                  1.0                    1.0                    1.0   \n",
       "376284                  1.0                    1.0                    1.0   \n",
       "\n",
       "                            opponent          game_id  \\\n",
       "0           CoacAI(AStarPathFinding)   0-vs-0-0-0.zip   \n",
       "1           CoacAI(AStarPathFinding)   0-vs-0-0-0.zip   \n",
       "2           CoacAI(AStarPathFinding)   0-vs-0-0-0.zip   \n",
       "3           CoacAI(AStarPathFinding)   0-vs-0-0-0.zip   \n",
       "4           CoacAI(AStarPathFinding)   0-vs-0-0-0.zip   \n",
       "...                              ...              ...   \n",
       "376280  RangedRush(AStarPathFinding)  4-vs-4-0-24.zip   \n",
       "376281  RangedRush(AStarPathFinding)  4-vs-4-0-24.zip   \n",
       "376282  RangedRush(AStarPathFinding)  4-vs-4-0-24.zip   \n",
       "376283  RangedRush(AStarPathFinding)  4-vs-4-0-24.zip   \n",
       "376284  RangedRush(AStarPathFinding)  4-vs-4-0-24.zip   \n",
       "\n",
       "        player_0_action_type_2_count  ...  player_1_Ranged_units  \\\n",
       "0                                0.0  ...                    0.0   \n",
       "1                                1.0  ...                    0.0   \n",
       "2                                0.0  ...                    0.0   \n",
       "3                                0.0  ...                    0.0   \n",
       "4                                0.0  ...                    0.0   \n",
       "...                              ...  ...                    ...   \n",
       "376280                           0.0  ...                    1.0   \n",
       "376281                           0.0  ...                    1.0   \n",
       "376282                           0.0  ...                    1.0   \n",
       "376283                           0.0  ...                    0.0   \n",
       "376284                           0.0  ...                    0.0   \n",
       "\n",
       "        player_0_Ranged_units  player_1_action_type_5_count  \\\n",
       "0                         0.0                           0.0   \n",
       "1                         0.0                           0.0   \n",
       "2                         0.0                           0.0   \n",
       "3                         0.0                           0.0   \n",
       "4                         0.0                           0.0   \n",
       "...                       ...                           ...   \n",
       "376280                    1.0                           0.0   \n",
       "376281                    1.0                           0.0   \n",
       "376282                    1.0                           1.0   \n",
       "376283                    0.0                           0.0   \n",
       "376284                    0.0                           0.0   \n",
       "\n",
       "        player_1_action_parameter_None_count  player_0_action_type_5_count  \\\n",
       "0                                        0.0                           0.0   \n",
       "1                                        0.0                           0.0   \n",
       "2                                        0.0                           0.0   \n",
       "3                                        0.0                           0.0   \n",
       "4                                        0.0                           0.0   \n",
       "...                                      ...                           ...   \n",
       "376280                                   0.0                           0.0   \n",
       "376281                                   0.0                           0.0   \n",
       "376282                                   1.0                           1.0   \n",
       "376283                                   0.0                           0.0   \n",
       "376284                                   0.0                           0.0   \n",
       "\n",
       "        player_0_action_parameter_None_count  \\\n",
       "0                                        0.0   \n",
       "1                                        0.0   \n",
       "2                                        0.0   \n",
       "3                                        0.0   \n",
       "4                                        0.0   \n",
       "...                                      ...   \n",
       "376280                                   0.0   \n",
       "376281                                   0.0   \n",
       "376282                                   1.0   \n",
       "376283                                   0.0   \n",
       "376284                                   0.0   \n",
       "\n",
       "        player_1_action_parameter_10_count  player_1_Light_units  \\\n",
       "0                                      0.0                   0.0   \n",
       "1                                      0.0                   0.0   \n",
       "2                                      0.0                   0.0   \n",
       "3                                      0.0                   0.0   \n",
       "4                                      0.0                   0.0   \n",
       "...                                    ...                   ...   \n",
       "376280                                 1.0                   0.0   \n",
       "376281                                 1.0                   0.0   \n",
       "376282                                 1.0                   0.0   \n",
       "376283                                 1.0                   0.0   \n",
       "376284                                 0.0                   0.0   \n",
       "\n",
       "        player_0_action_parameter_10_count  player_0_Light_units  \n",
       "0                                      0.0                   0.0  \n",
       "1                                      0.0                   0.0  \n",
       "2                                      0.0                   0.0  \n",
       "3                                      0.0                   0.0  \n",
       "4                                      0.0                   0.0  \n",
       "...                                    ...                   ...  \n",
       "376280                                 1.0                   0.0  \n",
       "376281                                 1.0                   0.0  \n",
       "376282                                 1.0                   0.0  \n",
       "376283                                 1.0                   0.0  \n",
       "376284                                 0.0                   0.0  \n",
       "\n",
       "[376285 rows x 41 columns]"
      ]
     },
     "execution_count": 292,
     "metadata": {},
     "output_type": "execute_result"
    }
   ],
   "source": [
    "tournament_10.traces"
   ]
  },
  {
   "cell_type": "code",
   "execution_count": null,
   "id": "d6d78ce7-fc9d-49fb-ba23-841d59675b7c",
   "metadata": {},
   "outputs": [],
   "source": []
  }
 ],
 "metadata": {
  "kernelspec": {
   "display_name": "Python 3 (ipykernel)",
   "language": "python",
   "name": "python3"
  },
  "language_info": {
   "codemirror_mode": {
    "name": "ipython",
    "version": 3
   },
   "file_extension": ".py",
   "mimetype": "text/x-python",
   "name": "python",
   "nbconvert_exporter": "python",
   "pygments_lexer": "ipython3",
   "version": "3.11.4"
  }
 },
 "nbformat": 4,
 "nbformat_minor": 5
}
